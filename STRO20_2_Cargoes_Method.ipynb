{
 "cells": [
  {
   "cell_type": "markdown",
   "id": "7845c965",
   "metadata": {},
   "source": [
    "This notebook creates dataframes based on the CSV file ladingen.csv downloaded from www.soundtoll.nl <br>\n",
    "It fetches JSON files containing details about column selection and renaming from the STRO 2.0 GitHub repository. <br>"
   ]
  },
  {
   "cell_type": "code",
   "execution_count": 43,
   "id": "0133cf09",
   "metadata": {},
   "outputs": [],
   "source": [
    "import requests\n",
    "import pandas as pd\n",
    "import numpy as np\n",
    "import json"
   ]
  },
  {
   "cell_type": "code",
   "execution_count": 119,
   "id": "31e73611-6374-4e3e-b3a1-6557503c0fac",
   "metadata": {},
   "outputs": [],
   "source": [
    "# path to downloaded copy of ladingen.csv\n",
    "ladingen = r\"C:\\STRO10\\ladingen.csv\\ladingen.csv\" # update filepath if necessary"
   ]
  },
  {
   "cell_type": "markdown",
   "id": "4b520a68-1112-4b25-a5b4-dabf3a2021d7",
   "metadata": {},
   "source": [
    "# 1. Preparation"
   ]
  },
  {
   "cell_type": "code",
   "execution_count": 12,
   "id": "54ea50db-b9e4-4801-a8f4-a279020ff7aa",
   "metadata": {},
   "outputs": [],
   "source": [
    "# retrieve files for preparing entity creation from the STRO 2.0 GitHub repository\n",
    "owner = 'dhofu'\n",
    "repo = 'stro20'\n",
    "column_selection = 'STRO_20_column_selection'\n",
    "rename_columns = 'STRO_20_column_names'\n",
    "url_selection = f\"https://api.github.com/repos/{owner}/{repo}/contents/{column_selection}\"\n",
    "url_rename = f\"https://api.github.com/repos/{owner}/{repo}/contents/{rename_columns}\""
   ]
  },
  {
   "cell_type": "code",
   "execution_count": 14,
   "id": "cc2511c9-d235-4417-86fe-cc842d458785",
   "metadata": {},
   "outputs": [],
   "source": [
    "response_column_selection = requests.get(url_selection)\n",
    "response_rename_columns = requests.get(url_rename)"
   ]
  },
  {
   "cell_type": "code",
   "execution_count": 16,
   "id": "d5c39c68-cc1d-4afa-91a5-5bef128f40e8",
   "metadata": {},
   "outputs": [],
   "source": [
    "# fetch the files for selecting columns from the 'ladingen' dataframe\n",
    "selection_mappings = {\n",
    "    'usecols_cargo': None,\n",
    "    'usecols_departure': None,\n",
    "    'usecols_destination': None,\n",
    "    'usecols_remarks_cargo': None\n",
    "}\n",
    "for file in response_column_selection.json():\n",
    "    if file['name'].startswith('ladingen_'):\n",
    "        key = file['name'].split('_', 1)[1].split('.', 1)[0]\n",
    "        if key in selection_mappings:\n",
    "            selection_mappings[key] = requests.get(file['download_url']).json()\n",
    "\n",
    "usecols_cargo = selection_mappings['usecols_cargo']\n",
    "usecols_departure = selection_mappings['usecols_departure']\n",
    "usecols_destination = selection_mappings['usecols_destination']\n",
    "usecols_remarks_cargo = selection_mappings['usecols_remarks_cargo']"
   ]
  },
  {
   "cell_type": "code",
   "execution_count": 22,
   "id": "5706c755-59c2-4470-9c32-e007fca6d511",
   "metadata": {},
   "outputs": [],
   "source": [
    "# fetch the files for renaming columns from the 'ladingen' dataframe \n",
    "rename_mappings = {\n",
    "    'rename_cargo': None,\n",
    "    'rename_departure': None,\n",
    "    'rename_destination': None,\n",
    "    'rename_remarks_cargo': None\n",
    "}\n",
    "\n",
    "for file in response_rename_columns.json():\n",
    "    if file['name'].startswith('ladingen_'):\n",
    "        key = file['name'].split('_', 1)[1].split('.', 1)[0]\n",
    "        if key in rename_mappings:\n",
    "            rename_mappings[key] = requests.get(file['download_url']).json()\n",
    "\n",
    "rename_cargo = rename_mappings['rename_cargo']\n",
    "rename_departure = rename_mappings['rename_departure']\n",
    "rename_destination = rename_mappings['rename_destination']\n",
    "rename_remarks_cargo = rename_mappings['rename_remarks_cargo']"
   ]
  },
  {
   "cell_type": "markdown",
   "id": "5446a681-786f-4328-a62e-ecfe3cc228f8",
   "metadata": {},
   "source": [
    "# 2. Create entities"
   ]
  },
  {
   "cell_type": "markdown",
   "id": "4ca56cb8-3489-4039-9b23-d0e369e8942f",
   "metadata": {},
   "source": [
    "## 2.1. Create dataframes"
   ]
  },
  {
   "cell_type": "markdown",
   "id": "977678f8-f012-464b-b36f-fc535f210a6c",
   "metadata": {},
   "source": [
    "The process consists of two steps. In the first step, dataframes are created for cargoes, departure, destination and remarks about the cargoes. <br>\n",
    "The cargoes dataframe will be elaborated further in the second step. <br>"
   ]
  },
  {
   "cell_type": "code",
   "execution_count": 28,
   "id": "5d9236d3",
   "metadata": {},
   "outputs": [],
   "source": [
    "# The cargoes dataframe is a temporary dataframe that will be elaborated next.\n",
    "df_cargoes = pd.read_csv(ladingen, sep=\",\", quotechar='\"', usecols=usecols_cargo, encoding=\"utf-8\", low_memory=False)\\\n",
    ".rename(columns=rename_cargo).reset_index().rename(columns={'index': 'cargo_id'})"
   ]
  },
  {
   "cell_type": "code",
   "execution_count": 32,
   "id": "cb594245-8561-48d8-8abf-9f09d5e00055",
   "metadata": {},
   "outputs": [],
   "source": [
    "df_departure = pd.read_csv(ladingen, sep=\",\", quotechar='\"', usecols=usecols_departure, encoding=\"utf-8\", low_memory=False)\\\n",
    ".rename(columns=rename_departure).reset_index(drop=True)"
   ]
  },
  {
   "cell_type": "code",
   "execution_count": 34,
   "id": "b6e3ba2b-53bf-4efb-84cc-49c655c4733f",
   "metadata": {},
   "outputs": [],
   "source": [
    "df_destination = pd.read_csv(ladingen, sep=\",\", quotechar='\"', usecols=usecols_destination, encoding=\"utf-8\", low_memory=False)\\\n",
    ".rename(columns=rename_destination).reset_index(drop=True)"
   ]
  },
  {
   "cell_type": "code",
   "execution_count": 36,
   "id": "ae750349-6a0c-435f-ab73-11aa81d42b34",
   "metadata": {},
   "outputs": [],
   "source": [
    "df_remarks_cargo = pd.read_csv(ladingen, sep=\",\", quotechar='\"', usecols=usecols_remarks_cargo, encoding=\"utf-8\", low_memory=False)\\\n",
    ".rename(columns=rename_remarks_cargo).reset_index(drop=True)"
   ]
  },
  {
   "cell_type": "markdown",
   "id": "5c2be83e-0784-4e1f-8834-416e93fb1152",
   "metadata": {},
   "source": [
    "## 2.2. Elaborate cargoes dataframe"
   ]
  },
  {
   "cell_type": "markdown",
   "id": "093843be-0d43-43e4-a8c4-10bad37a285e",
   "metadata": {},
   "source": [
    "A new ID is added to the cargoes dataframe to facilitate processing data related to registered cargoes.<br>\n",
    "The cargoes dataframe is split into dataframes that contain details about the registation, taxation and measurement of each cargo item. <br>\n",
    "The measurement includes an elaboration of alternative units of measure, if they are available in the data.<br>"
   ]
  },
  {
   "cell_type": "code",
   "execution_count": 40,
   "id": "2dadf11c-f058-4e17-9628-06cabba57b31",
   "metadata": {},
   "outputs": [],
   "source": [
    "# df_cargoes"
   ]
  },
  {
   "cell_type": "markdown",
   "id": "4f6a13cc-01f8-4d37-be44-e1119192b4fd",
   "metadata": {},
   "source": [
    "### 2.2.1. Refactor Measurement of Cargoes"
   ]
  },
  {
   "cell_type": "code",
   "execution_count": 47,
   "id": "9bd4fe8e-b3ab-462f-a714-04e37325c0c6",
   "metadata": {},
   "outputs": [],
   "source": [
    "df_measurement = df_cargoes[['cargo_id', 'ce_id', 'unitOfMeasure', 'quantity', 'alternativeUnitOfMeasure', 'alternativeQuantity']]"
   ]
  },
  {
   "cell_type": "code",
   "execution_count": 49,
   "id": "01bd09c6-d440-4135-b2be-58aea36862cf",
   "metadata": {},
   "outputs": [
    {
     "name": "stderr",
     "output_type": "stream",
     "text": [
      "C:\\Users\\ba6mt3\\AppData\\Local\\Temp\\ipykernel_13336\\3989586786.py:2: SettingWithCopyWarning: \n",
      "A value is trying to be set on a copy of a slice from a DataFrame.\n",
      "Try using .loc[row_indexer,col_indexer] = value instead\n",
      "\n",
      "See the caveats in the documentation: https://pandas.pydata.org/pandas-docs/stable/user_guide/indexing.html#returning-a-view-versus-a-copy\n",
      "  df_measurement['alternative'] = np.where(df_measurement.alternativeUnitOfMeasure.notnull(), True, False)\n"
     ]
    }
   ],
   "source": [
    "# a boolean that indicates if there is an alternative measurement available is added to the dataframe\n",
    "df_measurement['alternative'] = np.where(df_measurement.alternativeUnitOfMeasure.notnull(), True, False)"
   ]
  },
  {
   "cell_type": "code",
   "execution_count": 51,
   "id": "e9cb5479-7c91-409c-9019-8e83f6e1ac55",
   "metadata": {},
   "outputs": [],
   "source": [
    "df_measurement_msr = df_measurement.melt(id_vars=['cargo_id', 'ce_id', 'alternative'], \\\n",
    "                                         value_vars=['unitOfMeasure', 'alternativeUnitOfMeasure'])"
   ]
  },
  {
   "cell_type": "code",
   "execution_count": 52,
   "id": "052da1e7-5a5a-49cb-87c2-244dd0be2841",
   "metadata": {},
   "outputs": [],
   "source": [
    "df_measurement_qty = df_measurement.melt(id_vars=['cargo_id', 'ce_id', 'alternative'], \\\n",
    "                                         value_vars=['quantity', 'alternativeQuantity'])"
   ]
  },
  {
   "cell_type": "code",
   "execution_count": 54,
   "id": "888e92ea-d451-479c-879a-b64b930e4e58",
   "metadata": {},
   "outputs": [],
   "source": [
    "melted_df_measurement = df_measurement_msr.merge(df_measurement_qty, how='left', left_index=True, right_index=True)"
   ]
  },
  {
   "cell_type": "code",
   "execution_count": 57,
   "id": "e1b5a05c-23a8-4938-a8e5-e8855001bc79",
   "metadata": {},
   "outputs": [],
   "source": [
    "melted_df_measurement.drop(columns=['variable_x', 'ce_id_y', 'cargo_id_y', 'alternative_y', 'variable_y'], inplace=True)"
   ]
  },
  {
   "cell_type": "code",
   "execution_count": 59,
   "id": "e9192e9e-0e95-429d-8b04-885da297cb76",
   "metadata": {},
   "outputs": [],
   "source": [
    "melted_df_measurement.rename(columns={'cargo_id_x': 'cargo_id', 'ce_id_x': 'ce_id', 'alternative_x': 'alternative', \\\n",
    "                                      'value_x': 'measure', 'value_y': 'quantity'}, inplace=True)"
   ]
  },
  {
   "cell_type": "code",
   "execution_count": 61,
   "id": "3fec9581-f9f0-4a0e-abf7-2536dc6ef267",
   "metadata": {},
   "outputs": [],
   "source": [
    "melted_df_measurement.dropna(inplace=True)"
   ]
  },
  {
   "cell_type": "code",
   "execution_count": 63,
   "id": "e4f132de-c480-4c5f-95cd-8aa399fa427a",
   "metadata": {},
   "outputs": [
    {
     "data": {
      "text/html": [
       "<div>\n",
       "<style scoped>\n",
       "    .dataframe tbody tr th:only-of-type {\n",
       "        vertical-align: middle;\n",
       "    }\n",
       "\n",
       "    .dataframe tbody tr th {\n",
       "        vertical-align: top;\n",
       "    }\n",
       "\n",
       "    .dataframe thead th {\n",
       "        text-align: right;\n",
       "    }\n",
       "</style>\n",
       "<table border=\"1\" class=\"dataframe\">\n",
       "  <thead>\n",
       "    <tr style=\"text-align: right;\">\n",
       "      <th></th>\n",
       "      <th>cargo_id</th>\n",
       "      <th>ce_id</th>\n",
       "      <th>alternative</th>\n",
       "      <th>measure</th>\n",
       "      <th>quantity</th>\n",
       "    </tr>\n",
       "  </thead>\n",
       "  <tbody>\n",
       "    <tr>\n",
       "      <th>5568718</th>\n",
       "      <td>5568718</td>\n",
       "      <td>10003939</td>\n",
       "      <td>True</td>\n",
       "      <td>Støecker</td>\n",
       "      <td>12</td>\n",
       "    </tr>\n",
       "    <tr>\n",
       "      <th>11137748</th>\n",
       "      <td>5568718</td>\n",
       "      <td>10003939</td>\n",
       "      <td>True</td>\n",
       "      <td>Dr.</td>\n",
       "      <td>120</td>\n",
       "    </tr>\n",
       "  </tbody>\n",
       "</table>\n",
       "</div>"
      ],
      "text/plain": [
       "          cargo_id     ce_id  alternative   measure quantity\n",
       "5568718    5568718  10003939         True  Støecker       12\n",
       "11137748   5568718  10003939         True       Dr.      120"
      ]
     },
     "execution_count": 63,
     "metadata": {},
     "output_type": "execute_result"
    }
   ],
   "source": [
    "# check the melted dataframe\n",
    "melted_df_measurement.loc[melted_df_measurement['cargo_id'] == 5568718]"
   ]
  },
  {
   "cell_type": "markdown",
   "id": "e725b71c-6e4e-4e40-97b6-b6fbbceea967",
   "metadata": {},
   "source": [
    "### 2.2.2. Refactor Taxation of Cargoes"
   ]
  },
  {
   "cell_type": "code",
   "execution_count": 66,
   "id": "a4b4a3b8-4790-468d-8022-7fda250a1acb",
   "metadata": {},
   "outputs": [],
   "source": [
    "df_taxes_cargoes = df_cargoes[['cargo_id', 'ce_id', 'currency1', 'quantity1', 'currency2', 'quantity2', 'currency3', 'quantity3']]"
   ]
  },
  {
   "cell_type": "code",
   "execution_count": 68,
   "id": "f4774f93-4195-4f4f-9e8f-cdd62d450488",
   "metadata": {},
   "outputs": [],
   "source": [
    "df_taxes_cargoes_cry = df_taxes_cargoes.melt(id_vars=['cargo_id', 'ce_id'], value_vars=['currency1', 'currency2', 'currency3'])"
   ]
  },
  {
   "cell_type": "code",
   "execution_count": 69,
   "id": "9fcff648-e2db-473e-807c-ad11776836a8",
   "metadata": {},
   "outputs": [],
   "source": [
    "df_taxes_cargoes_qty = df_taxes_cargoes.melt(id_vars=['cargo_id', 'ce_id'], value_vars=['quantity1', 'quantity2', 'quantity3'])"
   ]
  },
  {
   "cell_type": "code",
   "execution_count": 70,
   "id": "ea5575d4-a132-480b-b330-8296496f40db",
   "metadata": {},
   "outputs": [],
   "source": [
    "melted_df_taxes_cargoes = df_taxes_cargoes_cry.merge(df_taxes_cargoes_qty, how='left', left_index=True, right_index=True)"
   ]
  },
  {
   "cell_type": "code",
   "execution_count": 72,
   "id": "dada2a48-0a76-429e-9e19-72e100e078d3",
   "metadata": {},
   "outputs": [],
   "source": [
    "melted_df_taxes_cargoes.drop(columns=['variable_x', 'ce_id_y', 'cargo_id_y', 'variable_y'], inplace=True)"
   ]
  },
  {
   "cell_type": "code",
   "execution_count": 73,
   "id": "b47ecd6f-721b-4767-a322-743a67344040",
   "metadata": {},
   "outputs": [],
   "source": [
    "melted_df_taxes_cargoes.rename(columns={'cargo_id_x': 'cargo_id', 'ce_id_x': 'ce_id', 'value_x': 'currency', 'value_y': 'quantity'}, inplace=True)"
   ]
  },
  {
   "cell_type": "code",
   "execution_count": 75,
   "id": "6e419f00-063f-416a-8106-d123a60060b7",
   "metadata": {},
   "outputs": [],
   "source": [
    "melted_df_taxes_cargoes.dropna(inplace=True)"
   ]
  },
  {
   "cell_type": "markdown",
   "id": "f2efd5ee-2000-4567-8dc7-b1255fe88f90",
   "metadata": {},
   "source": [
    "### 2.2.3. Registration of Cargoes"
   ]
  },
  {
   "cell_type": "code",
   "execution_count": 80,
   "id": "19461e85-e299-4ae0-ab69-3671ae4bbf9c",
   "metadata": {},
   "outputs": [],
   "source": [
    "df_cargo_regs = df_cargoes[['cargo_id', 'ce_id', 'row', 'commodity']]"
   ]
  },
  {
   "cell_type": "code",
   "execution_count": 83,
   "id": "4d1311ae-2737-4de0-bf65-57887640ddb1",
   "metadata": {},
   "outputs": [
    {
     "data": {
      "text/html": [
       "<div>\n",
       "<style scoped>\n",
       "    .dataframe tbody tr th:only-of-type {\n",
       "        vertical-align: middle;\n",
       "    }\n",
       "\n",
       "    .dataframe tbody tr th {\n",
       "        vertical-align: top;\n",
       "    }\n",
       "\n",
       "    .dataframe thead th {\n",
       "        text-align: right;\n",
       "    }\n",
       "</style>\n",
       "<table border=\"1\" class=\"dataframe\">\n",
       "  <thead>\n",
       "    <tr style=\"text-align: right;\">\n",
       "      <th></th>\n",
       "      <th>cargo_id</th>\n",
       "      <th>ce_id</th>\n",
       "      <th>row</th>\n",
       "      <th>commodity</th>\n",
       "    </tr>\n",
       "  </thead>\n",
       "  <tbody>\n",
       "    <tr>\n",
       "      <th>0</th>\n",
       "      <td>0</td>\n",
       "      <td>270</td>\n",
       "      <td>1</td>\n",
       "      <td>Byg</td>\n",
       "    </tr>\n",
       "    <tr>\n",
       "      <th>1</th>\n",
       "      <td>1</td>\n",
       "      <td>281</td>\n",
       "      <td>1</td>\n",
       "      <td>Rug</td>\n",
       "    </tr>\n",
       "    <tr>\n",
       "      <th>2</th>\n",
       "      <td>2</td>\n",
       "      <td>304</td>\n",
       "      <td>1</td>\n",
       "      <td>Rug</td>\n",
       "    </tr>\n",
       "    <tr>\n",
       "      <th>3</th>\n",
       "      <td>3</td>\n",
       "      <td>361</td>\n",
       "      <td>1</td>\n",
       "      <td>Rug</td>\n",
       "    </tr>\n",
       "    <tr>\n",
       "      <th>4</th>\n",
       "      <td>4</td>\n",
       "      <td>462</td>\n",
       "      <td>1</td>\n",
       "      <td>Ballast</td>\n",
       "    </tr>\n",
       "    <tr>\n",
       "      <th>...</th>\n",
       "      <td>...</td>\n",
       "      <td>...</td>\n",
       "      <td>...</td>\n",
       "      <td>...</td>\n",
       "    </tr>\n",
       "    <tr>\n",
       "      <th>5569025</th>\n",
       "      <td>5569025</td>\n",
       "      <td>10004106</td>\n",
       "      <td>1</td>\n",
       "      <td>Salt</td>\n",
       "    </tr>\n",
       "    <tr>\n",
       "      <th>5569026</th>\n",
       "      <td>5569026</td>\n",
       "      <td>10004107</td>\n",
       "      <td>1</td>\n",
       "      <td>Salt</td>\n",
       "    </tr>\n",
       "    <tr>\n",
       "      <th>5569027</th>\n",
       "      <td>5569027</td>\n",
       "      <td>10004107</td>\n",
       "      <td>2</td>\n",
       "      <td>Basterdt</td>\n",
       "    </tr>\n",
       "    <tr>\n",
       "      <th>5569028</th>\n",
       "      <td>5569028</td>\n",
       "      <td>10004107</td>\n",
       "      <td>3</td>\n",
       "      <td>Basterdt</td>\n",
       "    </tr>\n",
       "    <tr>\n",
       "      <th>5569029</th>\n",
       "      <td>5569029</td>\n",
       "      <td>10004108</td>\n",
       "      <td>1</td>\n",
       "      <td>Sild</td>\n",
       "    </tr>\n",
       "  </tbody>\n",
       "</table>\n",
       "<p>5569030 rows × 4 columns</p>\n",
       "</div>"
      ],
      "text/plain": [
       "         cargo_id     ce_id  row commodity\n",
       "0               0       270    1       Byg\n",
       "1               1       281    1       Rug\n",
       "2               2       304    1       Rug\n",
       "3               3       361    1       Rug\n",
       "4               4       462    1   Ballast\n",
       "...           ...       ...  ...       ...\n",
       "5569025   5569025  10004106    1      Salt\n",
       "5569026   5569026  10004107    1      Salt\n",
       "5569027   5569027  10004107    2  Basterdt\n",
       "5569028   5569028  10004107    3  Basterdt\n",
       "5569029   5569029  10004108    1      Sild\n",
       "\n",
       "[5569030 rows x 4 columns]"
      ]
     },
     "execution_count": 83,
     "metadata": {},
     "output_type": "execute_result"
    }
   ],
   "source": [
    "df_cargo_regs"
   ]
  },
  {
   "cell_type": "markdown",
   "id": "2ff95008-9d97-4c99-acee-49879851d668",
   "metadata": {},
   "source": [
    "## 2.3. Cleaning dataframes"
   ]
  },
  {
   "cell_type": "code",
   "execution_count": 86,
   "id": "714bc4ab-a0b6-4384-8dc5-8a33979f99bd",
   "metadata": {},
   "outputs": [],
   "source": [
    "df_departure.drop_duplicates(inplace=True)"
   ]
  },
  {
   "cell_type": "code",
   "execution_count": 87,
   "id": "3dccc6aa-a5c3-4119-8179-d5ced2d1289d",
   "metadata": {},
   "outputs": [],
   "source": [
    "df_departure = df_departure.reset_index().rename(columns={'index': 'cargo_id'})"
   ]
  },
  {
   "cell_type": "code",
   "execution_count": 103,
   "id": "9a465837-962e-4959-a5b7-705cc8db141f",
   "metadata": {},
   "outputs": [],
   "source": [
    "# check records in the dataframe\n",
    "# df_departure.loc[df_departure['ce_id'] == 88094]"
   ]
  },
  {
   "cell_type": "code",
   "execution_count": 92,
   "id": "2579a348-f85f-4eca-b12e-1a17488c0b5b",
   "metadata": {},
   "outputs": [],
   "source": [
    "df_destination.drop_duplicates(inplace=True)"
   ]
  },
  {
   "cell_type": "code",
   "execution_count": 93,
   "id": "39d41bb2-f9d1-4b04-b995-58d202450838",
   "metadata": {},
   "outputs": [],
   "source": [
    "df_destination = df_destination.reset_index().rename(columns={'index': 'cargo_id'})"
   ]
  },
  {
   "cell_type": "code",
   "execution_count": 94,
   "id": "e7dc1c85-ba95-4351-a9f1-cc4e889ff54a",
   "metadata": {},
   "outputs": [],
   "source": [
    "df_remarks_cargo.dropna(inplace=True)"
   ]
  },
  {
   "cell_type": "code",
   "execution_count": 98,
   "id": "3603bc6e-640e-4644-a73c-7294e8e57789",
   "metadata": {},
   "outputs": [],
   "source": [
    "df_remarks_cargo = df_remarks_cargo.reset_index().rename(columns={'index': 'cargo_id'})"
   ]
  },
  {
   "cell_type": "code",
   "execution_count": 105,
   "id": "fdaf0297-1d42-4dad-a2d3-5fff797e5aa9",
   "metadata": {},
   "outputs": [],
   "source": [
    "# df_remarks_cargo"
   ]
  },
  {
   "cell_type": "markdown",
   "id": "113b97fc-f502-49e3-946a-06295ad8c9e7",
   "metadata": {},
   "source": [
    "## 3. Save dataframes as CSV"
   ]
  },
  {
   "cell_type": "code",
   "execution_count": 107,
   "id": "c3f52f3c-4197-4701-90d4-75119300b37f",
   "metadata": {},
   "outputs": [],
   "source": [
    "melted_df_measurement.to_csv(r\"C:\\STRO20\\cargoes_measurement.csv\", sep=';', quotechar= '\"', index_label='index', encoding='utf-8')"
   ]
  },
  {
   "cell_type": "code",
   "execution_count": 108,
   "id": "399d7532-4f2a-4d76-9986-c70387d311c8",
   "metadata": {},
   "outputs": [],
   "source": [
    "melted_df_taxes_cargoes.to_csv(r\"C:\\STRO20\\taxes_cargoes.csv\", sep=';', quotechar= '\"', index_label='index', encoding='utf-8')"
   ]
  },
  {
   "cell_type": "code",
   "execution_count": 109,
   "id": "02338cf3-b23c-463d-afed-984d7c18911b",
   "metadata": {},
   "outputs": [],
   "source": [
    "df_departure.to_csv(r\"C:\\STRO20\\departure.csv\", sep=';', quotechar= '\"', index_label='index', encoding='utf-8')"
   ]
  },
  {
   "cell_type": "code",
   "execution_count": 110,
   "id": "e743d4dc-d7c4-47d0-bd9a-ddbbc8b94739",
   "metadata": {},
   "outputs": [],
   "source": [
    "df_destination.to_csv(r\"C:\\STRO20\\destination.csv\", sep=';', quotechar= '\"', index_label='index', encoding='utf-8')"
   ]
  },
  {
   "cell_type": "code",
   "execution_count": 111,
   "id": "69287ba7-d762-4bd1-8a8f-5789606d16c3",
   "metadata": {},
   "outputs": [],
   "source": [
    "df_remarks_cargo.to_csv(r\"C:\\STRO20\\remarks_cargoes.csv\", sep=';', quotechar= '\"', index_label='index', encoding='utf-8')"
   ]
  },
  {
   "cell_type": "code",
   "execution_count": 112,
   "id": "1687bc32-c190-4b18-bf6e-3a4a6ef42c50",
   "metadata": {},
   "outputs": [],
   "source": [
    "df_cargo_regs.to_csv(r\"C:\\STRO20\\cargoes_regs.csv\", sep=';', quotechar= '\"', index_label='index', encoding='utf-8')"
   ]
  }
 ],
 "metadata": {
  "kernelspec": {
   "display_name": "Python 3 (ipykernel)",
   "language": "python",
   "name": "python3"
  },
  "language_info": {
   "codemirror_mode": {
    "name": "ipython",
    "version": 3
   },
   "file_extension": ".py",
   "mimetype": "text/x-python",
   "name": "python",
   "nbconvert_exporter": "python",
   "pygments_lexer": "ipython3",
   "version": "3.9.18"
  }
 },
 "nbformat": 4,
 "nbformat_minor": 5
}
