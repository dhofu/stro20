{
 "cells": [
  {
   "cell_type": "code",
   "execution_count": 4,
   "id": "6806cab9-1e8b-4ab9-a1fc-25d9b32ab33a",
   "metadata": {},
   "outputs": [],
   "source": [
    "import os\n",
    "import pandas as pd\n",
    "from pathlib import Path\n",
    "import requests\n",
    "import json"
   ]
  },
  {
   "cell_type": "code",
   "execution_count": 14,
   "id": "a759f72c-41bd-49dc-9bad-9085e92e1e89",
   "metadata": {},
   "outputs": [],
   "source": [
    "# Add the name of a directory to download the legacy data STRO 1.0 to\n",
    "# The legacy data are found at: https://doi.org/10.6084/m9.figshare.27221169.v2\n",
    "# We will download it below using the figshare API\n",
    "directory = r\"[ADD_DIR_NAME]\" # for example, 'STRO10'"
   ]
  },
  {
   "cell_type": "code",
   "execution_count": 15,
   "id": "d09c8b5e",
   "metadata": {},
   "outputs": [
    {
     "name": "stdout",
     "output_type": "stream",
     "text": [
      "All done. If using Colab you will find the files in the little folder icon to the left.\n"
     ]
    }
   ],
   "source": [
    "# This cell is based on info found at: https://help.figshare.com/article/how-to-use-the-figshare-api#api-interface\n",
    "# Because of their size (1.06 GB), it takes a few minutes to download the files.\n",
    "item_id = \"27221169\" # This is the item ID of the figshare project STRO 1.0 (legacy data of Sound Toll Registers Online)\n",
    "BASE_URL = 'https://api.figshare.com/v2'\n",
    "file_info = [] # A blank list to hold all the file metadata\n",
    "r = requests.get(BASE_URL + '/articles/' + item_id + '/files')\n",
    "file_metadata = json.loads(r.text)\n",
    "for j in file_metadata: #add the item id to each file record- this is used later to name a folder to save the file to\n",
    "    j['item_id'] = item_id\n",
    "    file_info.append(j) #Add the file metadata to the list\n",
    "\n",
    "#Download each file to the directory indicated above\n",
    "for k in file_info:\n",
    "    response = requests.get(BASE_URL + '/file/download/' + str(k['id']))\n",
    "    Path(directory).mkdir(exist_ok=True)\n",
    "    open(directory + '/' + k['name'], 'wb').write(response.content)\n",
    "    \n",
    "print('Done. All files are downloaded.')"
   ]
  },
  {
   "cell_type": "code",
   "execution_count": 18,
   "id": "bf0077cb-8d1a-4b6c-996a-737d0a080eb1",
   "metadata": {},
   "outputs": [],
   "source": [
    "def compute_shape_density(directory):\n",
    "    \"\"\"\n",
    "    Compute the shape and density of DataFrames from CSV files in a given directory.\n",
    "    Parameters: directory (str): The directory containing the CSV files.\n",
    "    Returns: A Pandas DataFrame specifying the name of each CSV file, its shape, and density.\n",
    "    \"\"\"\n",
    "    shapeDensity = []\n",
    "    for subdir, dirs, files in os.walk(directory):\n",
    "        if subdir.endswith('_MACOSX'):\n",
    "            pass\n",
    "        else:\n",
    "            try:\n",
    "                for file in files:\n",
    "                    filepath = os.path.join(subdir, file)\n",
    "                    # load data into a pandas dataframe\n",
    "                    # specify separator if necessary (e.g. sep=';')\n",
    "                    df = pd.read_csv(filepath, sep=',', quotechar='\"', encoding=\"utf-8\", low_memory=False)\n",
    "                    # compute shape of the dataframe\n",
    "                    shape = df.shape\n",
    "                    # print(f\"The shape of {file} is: \", df.shape)\n",
    "                    # create a sparse array based on the dataframe\n",
    "                    sparseArray = df.apply(pd.arrays.SparseArray)\n",
    "                    # compute the ratio of non-sparse points to total (dense) data points\n",
    "                    density = sparseArray.sparse.density\n",
    "                    # print(f\"The density of {file} is: \", sparr.sparse.density)\n",
    "                    shapeDensity.append([file, shape, f\"{density:.2f}\"])\n",
    "            except Exception as e:\n",
    "                print(f\"Error processing {file}: {e}\")\n",
    "    return pd.DataFrame(shapeDensity, columns=['File', 'Shape', 'Density'])               "
   ]
  },
  {
   "cell_type": "code",
   "execution_count": 19,
   "id": "a72e0c35-11ab-488b-acf8-581fc8c0a771",
   "metadata": {},
   "outputs": [],
   "source": [
    "# takes a while to execute for all six, large dataframes in STRO 1.0\n",
    "result = compute_shape_density(directory)"
   ]
  },
  {
   "cell_type": "code",
   "execution_count": 20,
   "id": "3f0a7302-5196-4e02-826c-36fd3959a428",
   "metadata": {},
   "outputs": [
    {
     "data": {
      "text/html": [
       "<div>\n",
       "<style scoped>\n",
       "    .dataframe tbody tr th:only-of-type {\n",
       "        vertical-align: middle;\n",
       "    }\n",
       "\n",
       "    .dataframe tbody tr th {\n",
       "        vertical-align: top;\n",
       "    }\n",
       "\n",
       "    .dataframe thead th {\n",
       "        text-align: right;\n",
       "    }\n",
       "</style>\n",
       "<table border=\"1\" class=\"dataframe\">\n",
       "  <thead>\n",
       "    <tr style=\"text-align: right;\">\n",
       "      <th></th>\n",
       "      <th>File</th>\n",
       "      <th>Shape</th>\n",
       "      <th>Density</th>\n",
       "    </tr>\n",
       "  </thead>\n",
       "  <tbody>\n",
       "    <tr>\n",
       "      <th>0</th>\n",
       "      <td>belastingen.csv</td>\n",
       "      <td>(2919233, 11)</td>\n",
       "      <td>0.61</td>\n",
       "    </tr>\n",
       "    <tr>\n",
       "      <th>1</th>\n",
       "      <td>doorvaarten.csv</td>\n",
       "      <td>(2152705, 53)</td>\n",
       "      <td>0.37</td>\n",
       "    </tr>\n",
       "    <tr>\n",
       "      <th>2</th>\n",
       "      <td>images.csv</td>\n",
       "      <td>(2197401, 5)</td>\n",
       "      <td>0.74</td>\n",
       "    </tr>\n",
       "    <tr>\n",
       "      <th>3</th>\n",
       "      <td>ladingen.csv</td>\n",
       "      <td>(5569030, 16)</td>\n",
       "      <td>0.55</td>\n",
       "    </tr>\n",
       "    <tr>\n",
       "      <th>4</th>\n",
       "      <td>registers_totaal.csv</td>\n",
       "      <td>(1116, 8)</td>\n",
       "      <td>0.92</td>\n",
       "    </tr>\n",
       "    <tr>\n",
       "      <th>5</th>\n",
       "      <td>secties_totaal.csv</td>\n",
       "      <td>(4621, 9)</td>\n",
       "      <td>0.89</td>\n",
       "    </tr>\n",
       "  </tbody>\n",
       "</table>\n",
       "</div>"
      ],
      "text/plain": [
       "                   File          Shape Density\n",
       "0       belastingen.csv  (2919233, 11)    0.61\n",
       "1       doorvaarten.csv  (2152705, 53)    0.37\n",
       "2            images.csv   (2197401, 5)    0.74\n",
       "3          ladingen.csv  (5569030, 16)    0.55\n",
       "4  registers_totaal.csv      (1116, 8)    0.92\n",
       "5    secties_totaal.csv      (4621, 9)    0.89"
      ]
     },
     "execution_count": 20,
     "metadata": {},
     "output_type": "execute_result"
    }
   ],
   "source": [
    "result"
   ]
  }
 ],
 "metadata": {
  "kernelspec": {
   "display_name": "base",
   "language": "python",
   "name": "python3"
  },
  "language_info": {
   "codemirror_mode": {
    "name": "ipython",
    "version": 3
   },
   "file_extension": ".py",
   "mimetype": "text/x-python",
   "name": "python",
   "nbconvert_exporter": "python",
   "pygments_lexer": "ipython3",
   "version": "3.9.18"
  }
 },
 "nbformat": 4,
 "nbformat_minor": 5
}
