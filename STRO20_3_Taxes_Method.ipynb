{
 "cells": [
  {
   "cell_type": "markdown",
   "id": "7845c965",
   "metadata": {},
   "source": [
    "This notebook creates dataframes based on the csv file belastingen.csv downloaded from https://doi.org/10.6084/m9.figshare.27221169.v1 <br>\n",
    "It fetches JSON files containing details about column selection and renaming from the STRO 2.0 GitHub repository. <br>"
   ]
  },
  {
   "cell_type": "code",
   "execution_count": null,
   "id": "0133cf09",
   "metadata": {},
   "outputs": [],
   "source": [
    "import requests\n",
    "import pandas as pd\n",
    "import json"
   ]
  },
  {
   "cell_type": "code",
   "execution_count": null,
   "id": "5d508b0d-9f0f-4743-b0d2-79cbf65f750b",
   "metadata": {},
   "outputs": [],
   "source": [
    "# path to downloaded copy of belastingen.csv\n",
    "belastingen = r\"C:\\STRO10\\belastingen.csv\\belastingen.csv\" # update filepath if necessary"
   ]
  },
  {
   "cell_type": "markdown",
   "id": "4b520a68-1112-4b25-a5b4-dabf3a2021d7",
   "metadata": {},
   "source": [
    "# 1. Preparation"
   ]
  },
  {
   "cell_type": "code",
   "execution_count": null,
   "id": "f7764ea0-230c-4a81-94e7-01599531e59f",
   "metadata": {},
   "outputs": [],
   "source": [
    "# retrieve files for preparing entity creation from the STRO 2.0 GitHub repository\n",
    "owner = 'dhofu'\n",
    "repo = 'stro20'\n",
    "column_selection = 'STRO_20_column_selection'\n",
    "rename_columns = 'STRO_20_column_names'\n",
    "url_selection = f\"https://api.github.com/repos/{owner}/{repo}/contents/{column_selection}\"\n",
    "url_rename = f\"https://api.github.com/repos/{owner}/{repo}/contents/{rename_columns}\""
   ]
  },
  {
   "cell_type": "code",
   "execution_count": null,
   "id": "9415c7ad-bdf8-46ec-8fad-636ebefa7cd4",
   "metadata": {},
   "outputs": [],
   "source": [
    "response_column_selection = requests.get(url_selection)\n",
    "response_rename_columns = requests.get(url_rename)"
   ]
  },
  {
   "cell_type": "code",
   "execution_count": null,
   "id": "a1ff7d4a-a7b0-4bfb-9479-9a56fd052e3d",
   "metadata": {},
   "outputs": [],
   "source": [
    "# fetch the files for selecting columns from the 'belastingen' dataframe\n",
    "selection_mappings = {\n",
    "    'usecols_taxes': None,\n",
    "    'usecols_taxes_remarks': None\n",
    "}\n",
    "for file in response_column_selection.json():\n",
    "    if file['name'].startswith('belastingen_'):\n",
    "        key = file['name'].split('_', 1)[1].split('.', 1)[0]\n",
    "        if key in selection_mappings:\n",
    "            selection_mappings[key] = requests.get(file['download_url']).json()\n",
    "\n",
    "usecols_taxes = selection_mappings['usecols_taxes']\n",
    "usecols_taxes_remarks = selection_mappings['usecols_taxes_remarks']"
   ]
  },
  {
   "cell_type": "code",
   "execution_count": null,
   "id": "e8b5628d-2904-441f-99f0-071efa55daf1",
   "metadata": {},
   "outputs": [],
   "source": [
    "# fetch the files for renaming columns from the 'belastingen' dataframe \n",
    "rename_mappings = {\n",
    "    'rename_taxes': None,\n",
    "    'rename_remarks_taxes': None\n",
    "}\n",
    "\n",
    "for file in response_rename_columns.json():\n",
    "    if file['name'].startswith('belastingen_'):\n",
    "        key = file['name'].split('_', 1)[1].split('.', 1)[0]\n",
    "        if key in rename_mappings:\n",
    "            rename_mappings[key] = requests.get(file['download_url']).json()\n",
    "\n",
    "rename_taxes = rename_mappings['rename_taxes']\n",
    "rename_remarks_taxes = rename_mappings['rename_remarks_taxes']"
   ]
  },
  {
   "cell_type": "markdown",
   "id": "5446a681-786f-4328-a62e-ecfe3cc228f8",
   "metadata": {},
   "source": [
    "# 2. Create Entities"
   ]
  },
  {
   "cell_type": "markdown",
   "id": "3d145448-16ef-4ecf-a8d7-ed728765e8c5",
   "metadata": {},
   "source": [
    "## 2.1. Create dataframes"
   ]
  },
  {
   "cell_type": "code",
   "execution_count": null,
   "id": "77e7c341",
   "metadata": {},
   "outputs": [],
   "source": [
    "df_taxes = pd.read_csv(belastingen, sep=\",\", quotechar='\"', usecols=usecols_taxes, encoding=\"utf-8\", low_memory=False)\\\n",
    ".rename(columns=rename_taxes).reset_index(drop=True)"
   ]
  },
  {
   "cell_type": "code",
   "execution_count": null,
   "id": "c4f10216-fe8e-4d36-9dec-7571b1a9b5f2",
   "metadata": {},
   "outputs": [],
   "source": [
    "df_remarks_taxes = pd.read_csv(belastingen, sep=\",\", quotechar='\"', usecols=usecols_taxes_remarks, encoding=\"utf-8\", low_memory=False)\\\n",
    ".rename(columns=rename_remarks_taxes).reset_index(drop=True)"
   ]
  },
  {
   "cell_type": "code",
   "execution_count": null,
   "id": "990e20c6-c9ed-4c7e-9e59-17e1dc99497a",
   "metadata": {},
   "outputs": [],
   "source": [
    "df_remarks_taxes.dropna(inplace=True)"
   ]
  },
  {
   "cell_type": "markdown",
   "id": "867bad9e-bbc8-4699-ae17-f83ee43e95c5",
   "metadata": {},
   "source": [
    "## 2.2. Refactor dataframes"
   ]
  },
  {
   "cell_type": "code",
   "execution_count": null,
   "id": "fc18e457-4f23-4c10-b5e2-81a6b0fb8f09",
   "metadata": {},
   "outputs": [],
   "source": [
    "df_taxes_cry = df_taxes.melt(id_vars=['ce_id', 'row', 'taxAnnotation', 'discount'], value_vars=['currency1', 'currency2', 'currency3'])"
   ]
  },
  {
   "cell_type": "code",
   "execution_count": null,
   "id": "1bc15336-bad3-4e8f-a3fa-d4eea792fc9b",
   "metadata": {},
   "outputs": [],
   "source": [
    "df_taxes_qty = df_taxes.melt(id_vars=['ce_id', 'row', 'taxAnnotation', 'discount'], value_vars=['quantity1', 'quantity2', 'quantity3'])"
   ]
  },
  {
   "cell_type": "code",
   "execution_count": null,
   "id": "0c7847d2-c03e-4e63-b71c-0072c499a39e",
   "metadata": {},
   "outputs": [],
   "source": [
    "melted_df_taxes = df_taxes_cry.merge(df_taxes_qty, how='left', left_index=True, right_index=True)"
   ]
  },
  {
   "cell_type": "code",
   "execution_count": null,
   "id": "41df589c-7409-49d9-a5da-52ca0f81d3ba",
   "metadata": {},
   "outputs": [],
   "source": [
    "melted_df_taxes.drop(columns=['ce_id_y', 'row_y', 'taxAnnotation_y', 'discount_y', 'variable_x', 'variable_y'], inplace=True)"
   ]
  },
  {
   "cell_type": "code",
   "execution_count": null,
   "id": "63e30f9a-c243-4fb6-8dcf-a2f3e8200143",
   "metadata": {},
   "outputs": [],
   "source": [
    "melted_df_taxes.rename(columns={'ce_id_x': 'ce_id', 'row_x': 'row', 'taxAnnotation_x': 'taxAnnotation',\\\n",
    "                                'discount_x': 'discount', 'value_x': 'currency', 'value_y': 'quantity'}, inplace=True)"
   ]
  },
  {
   "cell_type": "code",
   "execution_count": null,
   "id": "cb1e0b66-867b-491d-9d7f-b13b6b821ed2",
   "metadata": {},
   "outputs": [],
   "source": [
    "# melted_df_taxes"
   ]
  },
  {
   "cell_type": "code",
   "execution_count": null,
   "id": "e20fadad-cb82-48a0-a042-ee463b80218a",
   "metadata": {},
   "outputs": [],
   "source": [
    "# check to see if anything could be dropped. This is not the case.\n",
    "# melted_df_taxes.dropna(how='all')"
   ]
  },
  {
   "cell_type": "markdown",
   "id": "4be74e8a-4c29-4ab2-add0-9e29096764e8",
   "metadata": {},
   "source": [
    "## 3. Save dataframes to CSV"
   ]
  },
  {
   "cell_type": "code",
   "execution_count": null,
   "id": "95090a22-b63d-46f1-b317-8d67d8c9f24c",
   "metadata": {},
   "outputs": [],
   "source": [
    "melted_df_taxes.to_csv(r\"C:\\STRO_HUYGENS\\STRO20\\taxes_entry.csv\", sep=';', quotechar= '\"', index_label='index', encoding='utf-8')"
   ]
  },
  {
   "cell_type": "code",
   "execution_count": null,
   "id": "1fca9a1a-f777-49e5-a6db-5bbfa297ba89",
   "metadata": {},
   "outputs": [],
   "source": [
    "df_remarks_taxes.to_csv(r\"C:\\STRO_HUYGENS\\STRO20\\remarks_taxes.csv\", sep=';', quotechar= '\"', index_label='index', encoding='utf-8')"
   ]
  }
 ],
 "metadata": {
  "kernelspec": {
   "display_name": "Python 3 (ipykernel)",
   "language": "python",
   "name": "python3"
  },
  "language_info": {
   "codemirror_mode": {
    "name": "ipython",
    "version": 3
   },
   "file_extension": ".py",
   "mimetype": "text/x-python",
   "name": "python",
   "nbconvert_exporter": "python",
   "pygments_lexer": "ipython3",
   "version": "3.9.18"
  }
 },
 "nbformat": 4,
 "nbformat_minor": 5
}
