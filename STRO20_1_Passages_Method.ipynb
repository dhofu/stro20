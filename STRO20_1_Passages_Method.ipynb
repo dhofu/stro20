{
 "cells": [
  {
   "cell_type": "markdown",
   "id": "7845c965",
   "metadata": {},
   "source": [
    "This notebook processes the CSV file doorvaarten.csv downloaded from www.soundtoll.nl. <br>\n",
    "It fetches JSON files containing details about column selection and renaming from the STRO 2.0 GitHub repository. <br>"
   ]
  },
  {
   "cell_type": "code",
   "execution_count": null,
   "id": "0133cf09",
   "metadata": {},
   "outputs": [],
   "source": [
    "import requests\n",
    "import pandas as pd\n",
    "import json"
   ]
  },
  {
   "cell_type": "code",
   "execution_count": null,
   "id": "b18c111a-9ead-4c05-8bae-98be30ddf3d4",
   "metadata": {},
   "outputs": [],
   "source": [
    "# path to downloaded copy of doorvaarten.csv\n",
    "doorvaarten = r\"C:\\STRO10\\doorvaarten.csv\\doorvaarten.csv\" # update filepath if necessary"
   ]
  },
  {
   "cell_type": "markdown",
   "id": "4b520a68-1112-4b25-a5b4-dabf3a2021d7",
   "metadata": {},
   "source": [
    "# 1. Preparation"
   ]
  },
  {
   "cell_type": "code",
   "execution_count": null,
   "id": "57b16786-42ef-4ec2-ad30-4cc83adb5010",
   "metadata": {},
   "outputs": [],
   "source": [
    "# retrieve files for preparing entity creation from the STRO 2.0 GitHub repository\n",
    "owner = 'dhofu'\n",
    "repo = 'stro20'\n",
    "column_selection = 'STRO_20_column_selection'\n",
    "rename_columns = 'STRO_20_column_names'\n",
    "url_selection = f\"https://api.github.com/repos/{owner}/{repo}/contents/{column_selection}\"\n",
    "url_rename = f\"https://api.github.com/repos/{owner}/{repo}/contents/{rename_columns}\""
   ]
  },
  {
   "cell_type": "code",
   "execution_count": null,
   "id": "47f46370-5de9-4feb-9f22-b9a144552f2b",
   "metadata": {},
   "outputs": [],
   "source": [
    "response_column_selection = requests.get(url_selection)\n",
    "response_rename_columns = requests.get(url_rename)"
   ]
  },
  {
   "cell_type": "code",
   "execution_count": null,
   "id": "b21b88d3-0f18-4f6a-9ca0-19582f5f3a8c",
   "metadata": {},
   "outputs": [],
   "source": [
    "# fetch the files for selecting columns from the 'doorvaarten' dataframe\n",
    "selection_mappings = {\n",
    "    'usecols_customs_entry': None,\n",
    "    'usecols_master': None,\n",
    "    'usecols_remarks': None,\n",
    "    'usecols_ship': None,\n",
    "    'usecols_taxes_master': None,\n",
    "    'usecols_taxes_totals': None,\n",
    "}\n",
    "for file in response_column_selection.json():\n",
    "    if file['name'].startswith('doorvaarten_'):\n",
    "        key = file['name'].split('_', 1)[1].split('.', 1)[0]\n",
    "        if key in selection_mappings:\n",
    "            selection_mappings[key] = requests.get(file['download_url']).json()\n",
    "\n",
    "usecols_customs_entry = selection_mappings['usecols_customs_entry']\n",
    "usecols_master = selection_mappings['usecols_master']\n",
    "usecols_remarks = selection_mappings['usecols_remarks']\n",
    "usecols_ship = selection_mappings['usecols_ship']\n",
    "usecols_taxes_master = selection_mappings['usecols_taxes_master']\n",
    "usecols_taxes_totals = selection_mappings['usecols_taxes_totals']"
   ]
  },
  {
   "cell_type": "code",
   "execution_count": null,
   "id": "1ca7e551-9beb-46d0-98ac-14fa06fca084",
   "metadata": {},
   "outputs": [],
   "source": [
    "# fetch the files for renaming columns from the 'doorvaarten' dataframe \n",
    "rename_mappings = {\n",
    "    'rename_customs_entry': None,\n",
    "    'rename_master': None,\n",
    "    'rename_remarks_entries': None,\n",
    "    'rename_ship': None,\n",
    "    'rename_taxes_master': None,\n",
    "    'rename_taxes_totals': None\n",
    "}\n",
    "\n",
    "for file in response_rename_columns.json():\n",
    "    if file['name'].startswith('doorvaarten_'):\n",
    "        key = file['name'].split('_', 1)[1].split('.', 1)[0]\n",
    "        if key in rename_mappings:\n",
    "            rename_mappings[key] = requests.get(file['download_url']).json()\n",
    "\n",
    "rename_customs_entry = rename_mappings['rename_customs_entry']\n",
    "rename_master = rename_mappings['rename_master']\n",
    "rename_remarks_entries = rename_mappings['rename_remarks_entries']\n",
    "rename_ship = rename_mappings['rename_ship']\n",
    "rename_taxes_master = rename_mappings['rename_taxes_master']\n",
    "rename_taxes_totals = rename_mappings['rename_taxes_totals']"
   ]
  },
  {
   "cell_type": "markdown",
   "id": "5446a681-786f-4328-a62e-ecfe3cc228f8",
   "metadata": {},
   "source": [
    "# 2. Create Entities"
   ]
  },
  {
   "cell_type": "markdown",
   "id": "cbd01797-bd71-4fce-8e1e-de204b35d6af",
   "metadata": {},
   "source": [
    "## 2.1. Create dataframes"
   ]
  },
  {
   "cell_type": "code",
   "execution_count": null,
   "id": "d0d993f5",
   "metadata": {},
   "outputs": [],
   "source": [
    "# create dataframe customs entry\n",
    "# this is the core unit of information in the database\n",
    "df_customs_entry = pd.read_csv(doorvaarten, sep=\",\", quotechar='\"', usecols=usecols_customs_entry, encoding=\"utf-8\", low_memory=False).\\\n",
    "rename(columns=rename_customs_entry).reset_index(drop=True)"
   ]
  },
  {
   "cell_type": "code",
   "execution_count": null,
   "id": "52295080-01b1-4afe-bb83-c20beb6e31df",
   "metadata": {},
   "outputs": [],
   "source": [
    "# create the new entity 'master'\n",
    "# this entity contains name data about the master as well as information about his domicile\n",
    "# the information about the domicile is 'raw'; the data are entered as found in the source\n",
    "# low_memory=False is added to suppress dtype warning\n",
    "df_master = pd.read_csv(doorvaarten, sep=\",\", quotechar='\"', usecols=usecols_master, encoding=\"utf-8\", low_memory=False).\\\n",
    "rename(columns=rename_master).reset_index(drop=True)"
   ]
  },
  {
   "cell_type": "code",
   "execution_count": null,
   "id": "1aca666e-1e26-4b22-a512-aae505275068",
   "metadata": {},
   "outputs": [],
   "source": [
    "# create new entity 'remarks about the customs entry'\n",
    "# this entity contains three types of remarks: remarks made by the keyer; remarks about the source; and help \n",
    "# low_memory=False is added to suppress dtype warning\n",
    "df_remarks_entry = pd.read_csv(doorvaarten, sep=\",\", quotechar='\"', usecols=usecols_remarks, encoding=\"utf-8\", low_memory=False).\\\n",
    "rename(columns=rename_remarks_entries).reset_index(drop=True)"
   ]
  },
  {
   "cell_type": "code",
   "execution_count": null,
   "id": "b20d9eea-f65a-4d0c-9f66-9a776b4935e1",
   "metadata": {},
   "outputs": [],
   "source": [
    "# create new entity 'ship'\n",
    "# this entity contains information about the ship \n",
    "# low_memory=False is added to suppress dtype warning\n",
    "df_ship = pd.read_csv(doorvaarten, sep=\",\", quotechar='\"', usecols=usecols_ship, encoding=\"utf-8\", low_memory=False).\\\n",
    "rename(columns=rename_ship).reset_index(drop=True)"
   ]
  },
  {
   "cell_type": "code",
   "execution_count": null,
   "id": "ffc2d522-d568-4398-ac8d-8ee619248691",
   "metadata": {},
   "outputs": [],
   "source": [
    "# create new entity 'taxes payable by the master'\n",
    "# this entity contains information about the taxes payable by the master\n",
    "# low_memory=False is added to suppress dtype warning\n",
    "df_taxes_master = pd.read_csv(doorvaarten, sep=\",\", quotechar='\"', usecols=usecols_taxes_master, encoding=\"utf-8\", low_memory=False).\\\n",
    "rename(columns=rename_taxes_master).reset_index(drop=True)"
   ]
  },
  {
   "cell_type": "code",
   "execution_count": null,
   "id": "9f8763a3-bda7-4546-ba2d-caafa1f9fb7e",
   "metadata": {},
   "outputs": [],
   "source": [
    "# create new entity 'taxes totals'\n",
    "# this entity contains information about the calculation steps for taxation\n",
    "# low_memory=False is added to suppress dtype warning\n",
    "df_taxes_totals = pd.read_csv(doorvaarten, sep=\",\", quotechar='\"', usecols=usecols_taxes_totals, encoding=\"utf-8\", low_memory=False).\\\n",
    "rename(columns=rename_taxes_totals).reset_index(drop=True)"
   ]
  },
  {
   "cell_type": "markdown",
   "id": "24a65b60-0ead-47ce-81c6-f76c82817578",
   "metadata": {},
   "source": [
    "## 2.2. Refactor dataframes"
   ]
  },
  {
   "cell_type": "code",
   "execution_count": null,
   "id": "81b8d02c-168c-4b31-bb70-5298685ffbde",
   "metadata": {},
   "outputs": [],
   "source": [
    "melted_df_remarks_entry = df_remarks_entry.melt(id_vars=['ce_id'], value_vars=['remarkSource', 'remarkKeyer', 'help'])"
   ]
  },
  {
   "cell_type": "code",
   "execution_count": null,
   "id": "dd4cdf2f-2a02-47d2-9552-58a5b0b6d565",
   "metadata": {},
   "outputs": [],
   "source": [
    "melted_df_remarks_entry.rename(columns={'variable': 'remarkType'}, inplace=True)"
   ]
  },
  {
   "cell_type": "code",
   "execution_count": null,
   "id": "e481f982-b834-43fc-a3e3-439fb8ca0204",
   "metadata": {},
   "outputs": [],
   "source": [
    "melted_df_remarks_entry.dropna(inplace=True)"
   ]
  },
  {
   "cell_type": "code",
   "execution_count": null,
   "id": "8c160807-b34e-4060-b5ce-f9a09b27c16f",
   "metadata": {},
   "outputs": [],
   "source": [
    "melted_df_remarks_entry"
   ]
  },
  {
   "cell_type": "code",
   "execution_count": null,
   "id": "c48ac271-a4e9-405e-a9b9-5a14c44ae72e",
   "metadata": {},
   "outputs": [],
   "source": [
    "df_ship.dropna(inplace=True)"
   ]
  },
  {
   "cell_type": "markdown",
   "id": "e605c53e-c38c-4782-a587-c850877b7270",
   "metadata": {},
   "source": [
    "## 2.3. Process tax data"
   ]
  },
  {
   "cell_type": "code",
   "execution_count": null,
   "id": "23f9262f-8ec3-4f22-a699-dec88a93f748",
   "metadata": {},
   "outputs": [],
   "source": [
    "# in df_taxes_master currency3 and quantity3 are empty and can be removed\n",
    "df_taxes_master.drop(columns=['Currency3', 'Quantity3'], inplace=True)"
   ]
  },
  {
   "cell_type": "code",
   "execution_count": null,
   "id": "06b6e897-d6bf-43d1-9176-61484f7431d2",
   "metadata": {},
   "outputs": [],
   "source": [
    "melted_df_taxes_master_cry = df_taxes_master.melt(id_vars=['ce_id', 'discountAnnotation'], value_vars=['Currency1', 'Currency2'])"
   ]
  },
  {
   "cell_type": "code",
   "execution_count": null,
   "id": "17dfad94-8cb1-49a6-9e80-d032f2b78476",
   "metadata": {},
   "outputs": [],
   "source": [
    "melted_df_taxes_master_cry"
   ]
  },
  {
   "cell_type": "code",
   "execution_count": null,
   "id": "70847389-5d9b-4af2-ae0e-ad359f7ec0d8",
   "metadata": {},
   "outputs": [],
   "source": [
    "melted_df_taxes_master_qty = df_taxes_master.melt(id_vars=['ce_id', 'discountAnnotation'], value_vars=['Quantity1', 'Quantity2'])"
   ]
  },
  {
   "cell_type": "code",
   "execution_count": null,
   "id": "db1fe940-fb51-45e1-be5b-4b9911b63d68",
   "metadata": {},
   "outputs": [],
   "source": [
    "melted_df_taxes_master_qty"
   ]
  },
  {
   "cell_type": "code",
   "execution_count": null,
   "id": "c434af03-22bd-467e-9421-f40caf55b090",
   "metadata": {},
   "outputs": [],
   "source": [
    "melted_df_taxes_master = melted_df_taxes_master_cry.merge(melted_df_taxes_master_qty, how='left', left_index=True, right_index=True)"
   ]
  },
  {
   "cell_type": "code",
   "execution_count": null,
   "id": "aebcd218-a4b0-48db-a1e7-d92610346a1e",
   "metadata": {},
   "outputs": [],
   "source": [
    "melted_df_taxes_master.drop(columns=['ce_id_y', 'discountAnnotation_y', 'variable_x', 'variable_y'], inplace=True)"
   ]
  },
  {
   "cell_type": "code",
   "execution_count": null,
   "id": "1e34ce7e-9e29-466b-b777-7bde363ecec0",
   "metadata": {},
   "outputs": [],
   "source": [
    "melted_df_taxes_master.rename(columns={'ce_id_x': 'ce_id', 'discountAnnotation_x': 'discountAnnotation', 'value_x': 'currency', 'value_y': 'quantity'}, inplace=True)"
   ]
  },
  {
   "cell_type": "code",
   "execution_count": null,
   "id": "1647a115-bb98-4488-8f3e-d76ffd058b39",
   "metadata": {},
   "outputs": [],
   "source": [
    "melted_df_taxes_master.dropna(inplace=True)"
   ]
  },
  {
   "cell_type": "code",
   "execution_count": null,
   "id": "ee297641-ef87-46b3-93dc-61653163743b",
   "metadata": {},
   "outputs": [],
   "source": [
    "melted_df_taxes_master"
   ]
  },
  {
   "cell_type": "code",
   "execution_count": null,
   "id": "450da42d-085e-4e32-b35e-d3fa47f3e9c6",
   "metadata": {},
   "outputs": [],
   "source": [
    "# column-wise review of the dataframe with count() and value_counts()\n",
    "# many NaN values, but no columns that can be removed entirely\n",
    "# same procedure as above (df_taxes_master and melt) - all currency-columns are processed first; then all quantities columns\n",
    "df_taxes_totals_cry = df_taxes_totals.melt(id_vars=['ce_id'], value_vars=['subtotal1Currency1', 'subtotal1Currency2', 'subtotal1Currency3', \\\n",
    "                                                                         'subtotal2Currency1', 'subtotal2Currency2', 'subtotal2Currency3', \\\n",
    "                                                                         'totalCurrency1', 'totalCurrency2', 'totalCurrency3', \\\n",
    "                                                                         'totalCurrency4', 'totalCurrency5'])"
   ]
  },
  {
   "cell_type": "code",
   "execution_count": null,
   "id": "978e6b8f-3ca4-4bc7-a84c-e1258f5e6901",
   "metadata": {},
   "outputs": [],
   "source": [
    "df_taxes_totals_qty = df_taxes_totals.melt(id_vars=['ce_id'], value_vars=['subtotal1Quantity1', 'subtotal1Quantity2', 'subtotal1Quantity3', \\\n",
    "                                                                         'subtotal2Quantity1', 'subtotal2Quantity2', 'subtotal2Quantity3', \\\n",
    "                                                                         'totalQuantity1', 'totalQuantity2', 'totalQuantity3', \\\n",
    "                                                                         'totalQuantity4', 'totalQuantity5'])"
   ]
  },
  {
   "cell_type": "code",
   "execution_count": null,
   "id": "9a6650ce-e0bc-4810-9d4c-82d417dfa0cc",
   "metadata": {},
   "outputs": [],
   "source": [
    "melted_df_taxes_totals = df_taxes_totals_cry.merge(df_taxes_totals_qty, how='left', left_index=True, right_index=True)"
   ]
  },
  {
   "cell_type": "code",
   "execution_count": null,
   "id": "09d47999-ff65-4426-af6f-4eefdc423929",
   "metadata": {},
   "outputs": [],
   "source": [
    "melted_df_taxes_totals"
   ]
  },
  {
   "cell_type": "code",
   "execution_count": null,
   "id": "d983d2bd-f2a9-4683-a772-813905da5fda",
   "metadata": {},
   "outputs": [],
   "source": [
    "melted_df_taxes_totals.drop(columns=['ce_id_y', 'variable_y'], inplace=True)"
   ]
  },
  {
   "cell_type": "code",
   "execution_count": null,
   "id": "904c53fd-156c-465f-86a1-66dcbed8ef0d",
   "metadata": {},
   "outputs": [],
   "source": [
    "melted_df_taxes_totals.rename(columns={'ce_id_x': 'ce_id', 'variable_x': 'calculationStep', 'value_x': 'currency', 'value_y': 'quantity'}, inplace=True)"
   ]
  },
  {
   "cell_type": "code",
   "execution_count": null,
   "id": "43fb3dc8-1629-4f66-9087-d0a2c567c7f7",
   "metadata": {},
   "outputs": [],
   "source": [
    "melted_df_taxes_totals.dropna(inplace=True)"
   ]
  },
  {
   "cell_type": "code",
   "execution_count": null,
   "id": "c61cff61-08c4-4a76-8c62-8094f0e35b10",
   "metadata": {},
   "outputs": [],
   "source": [
    "# check the melted dataframe\n",
    "# one final step could be to clean up the values in 'calculationStep' by renaming them subtotal1Currency1 => subtotal1 etc.\n",
    "# simple syntax: df.loc[ df[“column_name”] == “some_value”, “column_name”] = “value”\n",
    "melted_df_taxes_totals.loc[melted_df_taxes_totals['calculationStep'] == 'subtotal1Currency1', 'calculationStep'] = 'subtotal1'\n",
    "melted_df_taxes_totals.loc[melted_df_taxes_totals['calculationStep'] == 'subtotal1Currency2', 'calculationStep'] = 'subtotal1'\n",
    "melted_df_taxes_totals.loc[melted_df_taxes_totals['calculationStep'] == 'subtotal1Currency3', 'calculationStep'] = 'subtotal1'\n",
    "melted_df_taxes_totals.loc[melted_df_taxes_totals['calculationStep'] == 'subtotal2Currency1', 'calculationStep'] = 'subtotal2'\n",
    "melted_df_taxes_totals.loc[melted_df_taxes_totals['calculationStep'] == 'subtotal2Currency2', 'calculationStep'] = 'subtotal2'\n",
    "melted_df_taxes_totals.loc[melted_df_taxes_totals['calculationStep'] == 'subtotal2Currency3', 'calculationStep'] = 'subtotal2'\n",
    "melted_df_taxes_totals.loc[melted_df_taxes_totals['calculationStep'] == 'totalCurrency1', 'calculationStep'] = 'total'\n",
    "melted_df_taxes_totals.loc[melted_df_taxes_totals['calculationStep'] == 'totalCurrency2', 'calculationStep'] = 'total'\n",
    "melted_df_taxes_totals.loc[melted_df_taxes_totals['calculationStep'] == 'totalCurrency3', 'calculationStep'] = 'total'\n",
    "melted_df_taxes_totals.loc[melted_df_taxes_totals['calculationStep'] == 'totalCurrency4', 'calculationStep'] = 'total'\n",
    "melted_df_taxes_totals.loc[melted_df_taxes_totals['calculationStep'] == 'totalCurrency5', 'calculationStep'] = 'total'"
   ]
  },
  {
   "cell_type": "code",
   "execution_count": null,
   "id": "77a6dec4-d39c-4922-823b-3f9ebe2cd388",
   "metadata": {},
   "outputs": [],
   "source": [
    "melted_df_taxes_totals.loc[melted_df_taxes_totals['ce_id'] == 281]"
   ]
  },
  {
   "cell_type": "code",
   "execution_count": null,
   "id": "aa07ff42-4c2c-4a82-ae07-617025837edb",
   "metadata": {},
   "outputs": [],
   "source": [
    "melted_df_taxes_master.loc[melted_df_taxes_master['ce_id'] == 281]"
   ]
  },
  {
   "cell_type": "markdown",
   "id": "5f35dfe5-861c-479b-8518-8b66699b1d52",
   "metadata": {},
   "source": [
    "# 3. Save dataframes to disk"
   ]
  },
  {
   "cell_type": "code",
   "execution_count": null,
   "id": "5b20e31b-78c6-433c-bbc7-e9a041ae0cac",
   "metadata": {},
   "outputs": [],
   "source": [
    "df_customs_entry.to_csv(r\"C:\\STRO20\\customs_entries.csv\", sep=';', quotechar= '\"', index_label='index', encoding='utf-8')"
   ]
  },
  {
   "cell_type": "code",
   "execution_count": null,
   "id": "289dc75c-6392-46dc-aea6-1ffa4ba7384d",
   "metadata": {},
   "outputs": [],
   "source": [
    "df_master.to_csv(r\"C:\\STRO20\\masters.csv\", sep=';', quotechar= '\"', index_label='index', encoding='utf-8')"
   ]
  },
  {
   "cell_type": "code",
   "execution_count": null,
   "id": "deb60a2a-6df1-464d-a990-47021b737b2c",
   "metadata": {},
   "outputs": [],
   "source": [
    "melted_df_remarks_entry.to_csv(r\"C:\\STRO20\\remarks_entries.csv\", sep=';', quotechar= '\"', index_label='index', encoding='utf-8')"
   ]
  },
  {
   "cell_type": "code",
   "execution_count": null,
   "id": "8f787ff1-2e6c-481e-8954-bc1fac97fdf9",
   "metadata": {},
   "outputs": [],
   "source": [
    "df_ship.to_csv(r\"C:\\STRO20\\ships.csv\", sep=';', quotechar= '\"', index_label='index', encoding='utf-8')"
   ]
  },
  {
   "cell_type": "code",
   "execution_count": null,
   "id": "cc2d1d83-99c2-4098-a19c-fc760c4f1fcc",
   "metadata": {},
   "outputs": [],
   "source": [
    "melted_df_taxes_master.to_csv(r\"C:\\STRO20\\taxes_master.csv\", sep=';', quotechar= '\"', index_label='index', encoding='utf-8')"
   ]
  },
  {
   "cell_type": "code",
   "execution_count": null,
   "id": "ff2322c8-850f-4dfb-b75d-cd0b4db70acb",
   "metadata": {},
   "outputs": [],
   "source": [
    "melted_df_taxes_totals.to_csv(r\"C:\\STRO20\\taxes_totals.csv\", sep=';', quotechar= '\"', index_label='index', encoding='utf-8')"
   ]
  }
 ],
 "metadata": {
  "kernelspec": {
   "display_name": "Python 3 (ipykernel)",
   "language": "python",
   "name": "python3"
  },
  "language_info": {
   "codemirror_mode": {
    "name": "ipython",
    "version": 3
   },
   "file_extension": ".py",
   "mimetype": "text/x-python",
   "name": "python",
   "nbconvert_exporter": "python",
   "pygments_lexer": "ipython3",
   "version": "3.9.18"
  }
 },
 "nbformat": 4,
 "nbformat_minor": 5
}
