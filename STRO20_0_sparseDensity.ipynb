{
 "cells": [
  {
   "cell_type": "code",
   "execution_count": null,
   "id": "6806cab9-1e8b-4ab9-a1fc-25d9b32ab33a",
   "metadata": {},
   "outputs": [],
   "source": [
    "import os\n",
    "import pandas as pd"
   ]
  },
  {
   "cell_type": "code",
   "execution_count": null,
   "id": "a759f72c-41bd-49dc-9bad-9085e92e1e89",
   "metadata": {},
   "outputs": [],
   "source": [
    "# It is assumed that the STRO data files were downloaded from https://doi.org/10.6084/m9.figshare.27221169.v1. \n",
    "# It is assumed that the zip-files are extracted to the same folder.\n",
    "# The file path of the downloads is a bit peculiar: The name of the file is also the name of the folder which it contains.\n",
    "# For example, 'images.csv.zip' is extracted as a folder 'images.csv', which contains a file 'images.csv'. \n",
    "# This is taking into account while iterating of the files in the original STRO data model (STRO 1.0).\n",
    "directory = r\"C:\\STRO20\\data\" # update if necessary"
   ]
  },
  {
   "cell_type": "code",
   "execution_count": null,
   "id": "bf0077cb-8d1a-4b6c-996a-737d0a080eb1",
   "metadata": {},
   "outputs": [],
   "source": [
    "def compute_shape_density(directory):\n",
    "    \"\"\"\n",
    "    Compute the shape and density of DataFrames from CSV files in a given directory.\n",
    "    Parameters: directory (str): The directory containing the CSV files.\n",
    "    Returns: A Pandas DataFrame specifying the name of each CSV file, its shape, and density.\n",
    "    \"\"\"\n",
    "    shapeDensity = []\n",
    "    for subdir, dirs, files in os.walk(directory):\n",
    "        if subdir.endswith('_MACOSX'):\n",
    "            pass\n",
    "        else:\n",
    "            try:\n",
    "                for file in files:\n",
    "                    filepath = os.path.join(subdir, file)\n",
    "                    # load data into a pandas dataframe\n",
    "                    # specify separator if necessary (e.g. sep=';')\n",
    "                    df = pd.read_csv(filepath, sep=';', quotechar='\"', encoding=\"utf-8\", low_memory=False)\n",
    "                    # compute shape of the dataframe\n",
    "                    shape = df.shape\n",
    "                    # print(f\"The shape of {file} is: \", df.shape)\n",
    "                    # create a sparse array based on the dataframe\n",
    "                    sparseArray = df.apply(pd.arrays.SparseArray)\n",
    "                    # compute the ratio of non-sparse points to total (dense) data points\n",
    "                    density = sparseArray.sparse.density\n",
    "                    # print(f\"The density of {file} is: \", sparr.sparse.density)\n",
    "                    shapeDensity.append([file, shape, f\"{density:.2f}\"])\n",
    "            except Exception as e:\n",
    "                print(f\"Error processing {file}: {e}\")\n",
    "    return pd.DataFrame(shapeDensity, columns=['File', 'Shape', 'Density'])               "
   ]
  },
  {
   "cell_type": "code",
   "execution_count": null,
   "id": "a72e0c35-11ab-488b-acf8-581fc8c0a771",
   "metadata": {},
   "outputs": [],
   "source": [
    "result = compute_shape_density(directory)"
   ]
  },
  {
   "cell_type": "code",
   "execution_count": null,
   "id": "3f0a7302-5196-4e02-826c-36fd3959a428",
   "metadata": {},
   "outputs": [],
   "source": [
    "result"
   ]
  }
 ],
 "metadata": {
  "kernelspec": {
   "display_name": "Python 3 (ipykernel)",
   "language": "python",
   "name": "python3"
  },
  "language_info": {
   "codemirror_mode": {
    "name": "ipython",
    "version": 3
   },
   "file_extension": ".py",
   "mimetype": "text/x-python",
   "name": "python",
   "nbconvert_exporter": "python",
   "pygments_lexer": "ipython3",
   "version": "3.9.18"
  }
 },
 "nbformat": 4,
 "nbformat_minor": 5
}
